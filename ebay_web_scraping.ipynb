{
 "cells": [
  {
   "attachments": {},
   "cell_type": "markdown",
   "metadata": {},
   "source": [
    "# Web Scraping with Python BeautifulSoup\n",
    "\n",
    "## Import the Libraries"
   ]
  },
  {
   "cell_type": "code",
   "execution_count": 8,
   "metadata": {},
   "outputs": [],
   "source": [
    "import requests\n",
    "from bs4 import BeautifulSoup\n",
    "import pandas as pd"
   ]
  },
  {
   "cell_type": "code",
   "execution_count": 2,
   "metadata": {},
   "outputs": [],
   "source": [
    "# create lists to load the extracted data \n",
    "titles = []\n",
    "prices = []\n",
    "shippings = []\n",
    "urls = []"
   ]
  },
  {
   "cell_type": "code",
   "execution_count": 4,
   "metadata": {},
   "outputs": [],
   "source": [
    "import requests\n",
    "from bs4 import BeautifulSoup\n",
    "\n",
    "url = \"https://www.ebay.com/sch/i.html?_from=R40&_trksid=p2510209.m570.l1311&_nkw=sport+shorts+men&_sacat=0\"\n",
    "\n",
    "response = requests.get(url)\n",
    "soup = BeautifulSoup(response.content, \"html.parser\")\n",
    "\n",
    "items = soup.findAll(\"li\", attrs={\"class\": \"s-item\"})\n",
    "\n",
    "for item in items:\n",
    "    \n",
    "    title_element = item.select_one(\".s-item__title\")\n",
    "    title = title_element.get_text(strip=True) if title_element else \"N/A\"\n",
    "\n",
    "    price_element = item.find(\"span\", attrs={\"class\": \"s-item__price\"})\n",
    "    price = price_element.text.strip() if price_element else \"N/A\"\n",
    "\n",
    "    shipping_element = item.find(\"span\", attrs={\"class\": \"s-item__shipping s-item__logisticsCost\"})\n",
    "    shipping = shipping_element.text.strip() if shipping_element else \"N/A\"\n",
    "\n",
    "    url_element = item.find(\"a\", attrs={\"class\": \"s-item__link\"})\n",
    "    url = url_element[\"href\"] if url_element else \"N/A\"\n",
    "\n",
    "   # clean the $ symbol in front of the prices: index 0\n",
    "    price = price[1:6]\n",
    "    # append the values into the lists created before the for loop\n",
    "    titles.append(title)\n",
    "    prices.append(price)\n",
    "    shippings.append(shipping)\n",
    "    urls.append(url)\n"
   ]
  },
  {
   "attachments": {},
   "cell_type": "markdown",
   "metadata": {},
   "source": [
    "**Check the scraped information**"
   ]
  },
  {
   "cell_type": "code",
   "execution_count": 5,
   "metadata": {},
   "outputs": [
    {
     "name": "stdout",
     "output_type": "stream",
     "text": [
      "['Shop on eBay', \"Men's Stretch Golf Shorts Lightweight Quick Dry Zip Pocket Chino Flex Half Pants\", 'Sport Shorts Men Sportswear Double-deck Running Shorts 2 in 1 Beach Bottoms', \"Men's Sports Shorts GYM Training Bodybuilding Summer Workout Fitness Short Pants\", \"Men's Basketball Gym Shorts Casual Workout Shorts Drawstring Running Short Pants\"]\n"
     ]
    }
   ],
   "source": [
    "print(titles[:5])"
   ]
  },
  {
   "cell_type": "code",
   "execution_count": 14,
   "metadata": {},
   "outputs": [
    {
     "name": "stdout",
     "output_type": "stream",
     "text": [
      "['20.00', '19.99', '16.00', '11.99', '6.57 ']\n"
     ]
    }
   ],
   "source": [
    "print(prices[:5])"
   ]
  },
  {
   "cell_type": "code",
   "execution_count": 10,
   "metadata": {},
   "outputs": [
    {
     "name": "stdout",
     "output_type": "stream",
     "text": [
      "['N/A', '+$14.37 shipping', 'Free International Shipping', 'Shipping not specified', 'Free International Shipping']\n"
     ]
    }
   ],
   "source": [
    "print(shippings[:5])"
   ]
  },
  {
   "cell_type": "code",
   "execution_count": 16,
   "metadata": {},
   "outputs": [
    {
     "name": "stdout",
     "output_type": "stream",
     "text": [
      "['https://ebay.com/itm/123456?hash=item28caef0a3a:g:E3kAAOSwlGJiMikD&amdata=enc%3AAQAHAAAAsJoWXGf0hxNZspTmhb8%2FTJCCurAWCHuXJ2Xi3S9cwXL6BX04zSEiVaDMCvsUbApftgXEAHGJU1ZGugZO%2FnW1U7Gb6vgoL%2BmXlqCbLkwoZfF3AUAK8YvJ5B4%2BnhFA7ID4dxpYs4jjExEnN5SR2g1mQe7QtLkmGt%2FZ%2FbH2W62cXPuKbf550ExbnBPO2QJyZTXYCuw5KVkMdFMDuoB4p3FwJKcSPzez5kyQyVjyiIq6PB2q%7Ctkp%3ABlBMULq7kqyXYA', 'https://www.ebay.com/itm/354649433657?hash=item5292c0e639:g:PssAAOSwbWVkD-x8&amdata=enc%3AAQAIAAAAwLElfVPXDU%2Fz6vd6hVLX%2FSQLClHP8Q%2BVoQ%2BEpflZIppwbthGfyOe9U8QXAdamkOG4DnG3ihmzNk5cCNGnE3CVJl3wkS5%2F02KLW4liSC9V7RC%2BRtg%2F086uVa3zs5Y0fiCmT1qADwgyAOHOjm8wA0xewnQRHMAxQmCLzzmBswrdJTEjU5r859SCnBEvo0M55C21HegWmCfRDaair9qbhajgVNsrxuqAmzvKRDnPuSmkmAIAJ%2FyzNoFsB%2BwZ6R43PUGCA%3D%3D%7Ctkp%3ABlBMUOCgy--OYg', 'https://www.ebay.com/itm/394574141716?hash=item5bde739914:g:hXQAAOSwa0pkPdFl&amdata=enc%3AAQAIAAAAwFCz4iuxlDd7ZLOnfoZMDX5FhRY59asdPq3qkcPuv82Dk7rxwROtfd7s5kRMVXrn55F9wMaiJTFZcsxI4T3QTlM9u%2BY3mfUtKxqKzUon%2FCSgLMat6R8kqppOUV53vpX09dbg2XmEO%2BA3otWPTc8krQY3GqMmevomWBL8EASN3l93jUvha779bgtAVqj23a2wyaAOz9hCYMG7qa8AzPEYpXEhbyd7auxhHB17Espt30Rq5flncWy1RjkHJL9rUC1Z7A%3D%3D%7Ctkp%3ABlBMUOKgy--OYg', 'https://www.ebay.com/itm/202985690607?hash=item2f42e3d5ef:g:1ZgAAOSwwjtg4m3f&amdata=enc%3AAQAIAAAAwH22OPn9q7mlit3ORhTMw%2F37Pq6wQlo7FJ8P9RC7gIu2qxS8xtExxqK%2BrhmrPPYRhaqCyoxzGaSikssiLNZmtLKJ8f4Rtb8mYXUiTR98reFH5S2wkFjSN2bAUD52B5P4Q1rjRmtu7VVccTI1IIIbeZXa4T3pz0TMvRZYxOuigVpfhzMLniVTa4iW%2FcA%2Fy4P3gHMpgMbBqyC1yh6%2FLtq3OvXYQqC2HWNEz7TgEqZD8IoLIlo5I78Xeh2wmLt%2BmUUiJQ%3D%3D%7Ctkp%3ABlBMUOKgy--OYg', 'https://www.ebay.com/itm/403858113281?hash=item5e07d1c301:g:kLIAAOSwbq5ivRHY&amdata=enc%3AAQAIAAAA4HTUWO0q19EFu3Ydu64Om%2F720eRXZZinWajfXGYWfcHSzmvp3QFRuG4pGEjRpOeSTOFjZ7%2Byynw8kJJm63S3Cu0UEfe4Lhiz1fNiCny%2FA9LyMdplFHWEasSleVEMePecZT0hc6%2FxLXuNpujr1VBh2K%2F01wDgou8TqriF0j9LN%2F%2Bp9%2FqSFcoRBLASxcUhp2bE74dcvM1mwBuWOQpv8bhvuXmTV9QWCpIlFJ8ppv7pvcih9xKIdoJNXEERCSfKb%2BC14ZmRcxnRrVZApNKyd5tguCbsusboxuAAZGj5PfMYgBcZ%7Ctkp%3ABFBM4qDL745i']\n"
     ]
    }
   ],
   "source": [
    "print(urls[:5])"
   ]
  },
  {
   "attachments": {},
   "cell_type": "markdown",
   "metadata": {},
   "source": [
    "**Create a csv to load the data**"
   ]
  },
  {
   "cell_type": "code",
   "execution_count": 6,
   "metadata": {},
   "outputs": [
    {
     "name": "stdout",
     "output_type": "stream",
     "text": [
      "CSV file 'scraped_data.csv' has been created successfully.\n"
     ]
    }
   ],
   "source": [
    "import csv\n",
    "\n",
    "# Specify the desired CSV file name\n",
    "csv_file = \"scraped_data.csv\"\n",
    "\n",
    "# Combine the lists into a list of rows\n",
    "rows = zip(titles, prices, shippings, urls)\n",
    "\n",
    "# Write the data to the CSV file\n",
    "with open(csv_file, \"w\", newline=\"\", encoding=\"utf-8\") as file:\n",
    "    writer = csv.writer(file)\n",
    "    writer.writerow([\"Title\", \"Price\", \"Shipping\", \"URL\"])  # Write header row\n",
    "    writer.writerows(rows)  # Write the scraped data rows\n",
    "\n",
    "print(f\"CSV file '{csv_file}' has been created successfully.\")"
   ]
  },
  {
   "cell_type": "code",
   "execution_count": 14,
   "metadata": {},
   "outputs": [
    {
     "data": {
      "text/html": [
       "<div>\n",
       "<style scoped>\n",
       "    .dataframe tbody tr th:only-of-type {\n",
       "        vertical-align: middle;\n",
       "    }\n",
       "\n",
       "    .dataframe tbody tr th {\n",
       "        vertical-align: top;\n",
       "    }\n",
       "\n",
       "    .dataframe thead th {\n",
       "        text-align: right;\n",
       "    }\n",
       "</style>\n",
       "<table border=\"1\" class=\"dataframe\">\n",
       "  <thead>\n",
       "    <tr style=\"text-align: right;\">\n",
       "      <th></th>\n",
       "      <th>Title</th>\n",
       "      <th>Price</th>\n",
       "      <th>Shipping</th>\n",
       "      <th>URL</th>\n",
       "    </tr>\n",
       "  </thead>\n",
       "  <tbody>\n",
       "    <tr>\n",
       "      <th>0</th>\n",
       "      <td>Shop on eBay</td>\n",
       "      <td>20.00</td>\n",
       "      <td>NaN</td>\n",
       "      <td>https://ebay.com/itm/123456?hash=item28caef0a3...</td>\n",
       "    </tr>\n",
       "    <tr>\n",
       "      <th>1</th>\n",
       "      <td>Men's Stretch Golf Shorts Lightweight Quick Dr...</td>\n",
       "      <td>19.99</td>\n",
       "      <td>+$14.37 shipping</td>\n",
       "      <td>https://www.ebay.com/itm/354649433657?hash=ite...</td>\n",
       "    </tr>\n",
       "    <tr>\n",
       "      <th>2</th>\n",
       "      <td>Sport Shorts Men Sportswear Double-deck Runnin...</td>\n",
       "      <td>16.00</td>\n",
       "      <td>Free International Shipping</td>\n",
       "      <td>https://www.ebay.com/itm/394574141716?hash=ite...</td>\n",
       "    </tr>\n",
       "    <tr>\n",
       "      <th>3</th>\n",
       "      <td>Men's Sports Shorts GYM Training Bodybuilding ...</td>\n",
       "      <td>11.99</td>\n",
       "      <td>Shipping not specified</td>\n",
       "      <td>https://www.ebay.com/itm/202985690607?hash=ite...</td>\n",
       "    </tr>\n",
       "    <tr>\n",
       "      <th>4</th>\n",
       "      <td>Men's Basketball Gym Shorts Casual Workout Sho...</td>\n",
       "      <td>6.57</td>\n",
       "      <td>Free International Shipping</td>\n",
       "      <td>https://www.ebay.com/itm/403858113281?hash=ite...</td>\n",
       "    </tr>\n",
       "  </tbody>\n",
       "</table>\n",
       "</div>"
      ],
      "text/plain": [
       "                                               Title  Price   \n",
       "0                                       Shop on eBay  20.00  \\\n",
       "1  Men's Stretch Golf Shorts Lightweight Quick Dr...  19.99   \n",
       "2  Sport Shorts Men Sportswear Double-deck Runnin...  16.00   \n",
       "3  Men's Sports Shorts GYM Training Bodybuilding ...  11.99   \n",
       "4  Men's Basketball Gym Shorts Casual Workout Sho...   6.57   \n",
       "\n",
       "                      Shipping   \n",
       "0                          NaN  \\\n",
       "1             +$14.37 shipping   \n",
       "2  Free International Shipping   \n",
       "3       Shipping not specified   \n",
       "4  Free International Shipping   \n",
       "\n",
       "                                                 URL  \n",
       "0  https://ebay.com/itm/123456?hash=item28caef0a3...  \n",
       "1  https://www.ebay.com/itm/354649433657?hash=ite...  \n",
       "2  https://www.ebay.com/itm/394574141716?hash=ite...  \n",
       "3  https://www.ebay.com/itm/202985690607?hash=ite...  \n",
       "4  https://www.ebay.com/itm/403858113281?hash=ite...  "
      ]
     },
     "execution_count": 14,
     "metadata": {},
     "output_type": "execute_result"
    }
   ],
   "source": [
    "df = pd.read_csv(\"scraped_data.csv\")\n",
    "df.head()"
   ]
  },
  {
   "attachments": {},
   "cell_type": "markdown",
   "metadata": {},
   "source": [
    "# Understand the data"
   ]
  },
  {
   "cell_type": "code",
   "execution_count": 19,
   "metadata": {},
   "outputs": [
    {
     "data": {
      "text/plain": [
       "(76, 4)"
      ]
     },
     "execution_count": 19,
     "metadata": {},
     "output_type": "execute_result"
    }
   ],
   "source": [
    "df.shape"
   ]
  },
  {
   "cell_type": "code",
   "execution_count": 20,
   "metadata": {},
   "outputs": [
    {
     "name": "stdout",
     "output_type": "stream",
     "text": [
      "<class 'pandas.core.frame.DataFrame'>\n",
      "RangeIndex: 76 entries, 0 to 75\n",
      "Data columns (total 4 columns):\n",
      " #   Column    Non-Null Count  Dtype  \n",
      "---  ------    --------------  -----  \n",
      " 0   Title     76 non-null     object \n",
      " 1   Price     76 non-null     float64\n",
      " 2   Shipping  75 non-null     object \n",
      " 3   URL       76 non-null     object \n",
      "dtypes: float64(1), object(3)\n",
      "memory usage: 2.5+ KB\n"
     ]
    }
   ],
   "source": [
    "df.info()"
   ]
  },
  {
   "cell_type": "code",
   "execution_count": 24,
   "metadata": {},
   "outputs": [
    {
     "data": {
      "text/plain": [
       "count    76.000000\n",
       "mean     12.374474\n",
       "std       6.332098\n",
       "min       3.200000\n",
       "25%       7.415000\n",
       "50%      10.980000\n",
       "75%      16.092500\n",
       "max      38.990000\n",
       "Name: Price, dtype: float64"
      ]
     },
     "execution_count": 24,
     "metadata": {},
     "output_type": "execute_result"
    }
   ],
   "source": [
    "df.Price.describe()"
   ]
  },
  {
   "cell_type": "code",
   "execution_count": 21,
   "metadata": {},
   "outputs": [
    {
     "data": {
      "text/html": [
       "<div>\n",
       "<style scoped>\n",
       "    .dataframe tbody tr th:only-of-type {\n",
       "        vertical-align: middle;\n",
       "    }\n",
       "\n",
       "    .dataframe tbody tr th {\n",
       "        vertical-align: top;\n",
       "    }\n",
       "\n",
       "    .dataframe thead th {\n",
       "        text-align: right;\n",
       "    }\n",
       "</style>\n",
       "<table border=\"1\" class=\"dataframe\">\n",
       "  <thead>\n",
       "    <tr style=\"text-align: right;\">\n",
       "      <th></th>\n",
       "      <th>Title</th>\n",
       "      <th>Shipping</th>\n",
       "      <th>URL</th>\n",
       "    </tr>\n",
       "  </thead>\n",
       "  <tbody>\n",
       "    <tr>\n",
       "      <th>count</th>\n",
       "      <td>76</td>\n",
       "      <td>75</td>\n",
       "      <td>76</td>\n",
       "    </tr>\n",
       "    <tr>\n",
       "      <th>unique</th>\n",
       "      <td>73</td>\n",
       "      <td>50</td>\n",
       "      <td>76</td>\n",
       "    </tr>\n",
       "    <tr>\n",
       "      <th>top</th>\n",
       "      <td>Men's Sports Training Running Bodybuilding Wor...</td>\n",
       "      <td>Free International Shipping</td>\n",
       "      <td>https://ebay.com/itm/123456?hash=item28caef0a3...</td>\n",
       "    </tr>\n",
       "    <tr>\n",
       "      <th>freq</th>\n",
       "      <td>3</td>\n",
       "      <td>12</td>\n",
       "      <td>1</td>\n",
       "    </tr>\n",
       "  </tbody>\n",
       "</table>\n",
       "</div>"
      ],
      "text/plain": [
       "                                                    Title   \n",
       "count                                                  76  \\\n",
       "unique                                                 73   \n",
       "top     Men's Sports Training Running Bodybuilding Wor...   \n",
       "freq                                                    3   \n",
       "\n",
       "                           Shipping   \n",
       "count                            75  \\\n",
       "unique                           50   \n",
       "top     Free International Shipping   \n",
       "freq                             12   \n",
       "\n",
       "                                                      URL  \n",
       "count                                                  76  \n",
       "unique                                                 76  \n",
       "top     https://ebay.com/itm/123456?hash=item28caef0a3...  \n",
       "freq                                                    1  "
      ]
     },
     "execution_count": 21,
     "metadata": {},
     "output_type": "execute_result"
    }
   ],
   "source": [
    "df.describe(include=\"object\")"
   ]
  },
  {
   "cell_type": "code",
   "execution_count": 23,
   "metadata": {},
   "outputs": [
    {
     "name": "stdout",
     "output_type": "stream",
     "text": [
      "Title\n",
      "Men's Sports Training Running Bodybuilding Workout Fitness Shorts Gym Pants Work    3\n",
      "Mens Football Shorts Jogging Running Gym Sports Breathable Fitness Size XS - 2XL    2\n",
      "Shop on eBay                                                                        1\n",
      "Men's Workout Gym Shorts Athletic Lightweight Sport Casual Fitness Solid Colors     1\n",
      "Champion Men's Shorts Pockets Authentic Cotton 9-Inch Gym Workout Warm Jersey       1\n",
      "                                                                                   ..\n",
      "New Mens Shorts Elasticated Waist Plain Casual Gym Knee Length Summer Half Pants    1\n",
      "Adidas Mens Shorts Chelsea 3 Stripes Gym Sports Running Short Pockets Climalite     1\n",
      "Mens Shorts Football Running Jogging Gym Sports Breathable Fitness Quick Dry        1\n",
      "Mens Jogging Fleece Shorts Training Running Gym Pockets Jersey Sports Half Pants    1\n",
      "Summer Men Twill Cotton Slim Fit Casual Sport Shorts Chino Beach Joggers Pants      1\n",
      "Name: count, Length: 73, dtype: int64\n",
      "*****************\n",
      "Shipping\n",
      "Free International Shipping    12\n",
      "+$8.56 shipping estimate        3\n",
      "+$14.37 shipping                2\n",
      "+$8.49 shipping estimate        2\n",
      "+$14.26 shipping                2\n",
      "+$7.42 shipping                 2\n",
      "+$8.84 shipping estimate        2\n",
      "+$18.58 shipping                2\n",
      "+$8.66 shipping estimate        2\n",
      "+$8.63 shipping estimate        2\n",
      "+$8.53 shipping estimate        2\n",
      "+$14.18 shipping                2\n",
      "+$8.66 shipping                 2\n",
      "+$22.30 shipping                2\n",
      "+$14.32 shipping                1\n",
      "+$10.86 shipping estimate       1\n",
      "+$9.02 shipping estimate        1\n",
      "+$14.23 shipping                1\n",
      "+$8.50 shipping estimate        1\n",
      "+$11.14 shipping                1\n",
      "+$8.91 shipping estimate        1\n",
      "+$35.93 shipping                1\n",
      "+$14.72 shipping                1\n",
      "+$14.17 shipping                1\n",
      "+$10.52 shipping                1\n",
      "+$12.72 shipping                1\n",
      "+$5.18 shipping                 1\n",
      "+$9.13 shipping estimate        1\n",
      "+$6.14 shipping                 1\n",
      "+$8.68 shipping estimate        1\n",
      "+$8.73 shipping estimate        1\n",
      "+$9.10 shipping estimate        1\n",
      "+$9.68 shipping estimate        1\n",
      "Shipping not specified          1\n",
      "+$9.28 shipping estimate        1\n",
      "+$14.29 shipping                1\n",
      "+$14.45 shipping                1\n",
      "+$8.99 shipping                 1\n",
      "+$13.00 shipping estimate       1\n",
      "+$35.32 shipping                1\n",
      "+$40.99 shipping                1\n",
      "+$8.48 shipping estimate        1\n",
      "+$5.00 shipping                 1\n",
      "+$2.99 shipping                 1\n",
      "+$12.38 shipping                1\n",
      "+$19.82 shipping                1\n",
      "+$8.69 shipping estimate        1\n",
      "+$5.22 shipping                 1\n",
      "+$12.20 shipping estimate       1\n",
      "+$14.25 shipping                1\n",
      "Name: count, dtype: int64\n",
      "*****************\n"
     ]
    }
   ],
   "source": [
    "for i in df[[\"Title\", \"Shipping\"]]:\n",
    "    print(df[i].value_counts())\n",
    "    print(\"*****************\")"
   ]
  },
  {
   "attachments": {},
   "cell_type": "markdown",
   "metadata": {},
   "source": [
    "# Visual Analysis"
   ]
  },
  {
   "cell_type": "code",
   "execution_count": 11,
   "metadata": {},
   "outputs": [],
   "source": [
    "import seaborn as sns\n",
    "import matplotlib.pyplot as plt"
   ]
  },
  {
   "cell_type": "code",
   "execution_count": 16,
   "metadata": {},
   "outputs": [
    {
     "data": {
      "image/png": "[encoded data removed]",
      "text/plain": [
       "<Figure size 640x480 with 1 Axes>"
      ]
     },
     "metadata": {},
     "output_type": "display_data"
    }
   ],
   "source": [
    "sns.histplot(df.Price)\n",
    "plt.xlabel('Price')\n",
    "plt.ylabel('Count')\n",
    "plt.title('Price Distribution')\n",
    "plt.show()"
   ]
  },
  {
   "cell_type": "code",
   "execution_count": 15,
   "metadata": {},
   "outputs": [
    {
     "data": {
      "image/png": "[encoded data removed]",
      "text/plain": [
       "<Figure size 640x480 with 1 Axes>"
      ]
     },
     "metadata": {},
     "output_type": "display_data"
    }
   ],
   "source": [
    "# distribution of the prices\n",
    "sns.boxplot(df.Price)\n",
    "plt.xlabel('Price')\n",
    "plt.ylabel('Count')\n",
    "plt.title('Price Distribution')\n",
    "plt.show()"
   ]
  },
  {
   "cell_type": "code",
   "execution_count": null,
   "metadata": {},
   "outputs": [],
   "source": []
  }
 ],
 "metadata": {
  "kernelspec": {
   "display_name": "base",
   "language": "python",
   "name": "python3"
  },
  "language_info": {
   "codemirror_mode": {
    "name": "ipython",
    "version": 3
   },
   "file_extension": ".py",
   "mimetype": "text/x-python",
   "name": "python",
   "nbconvert_exporter": "python",
   "pygments_lexer": "ipython3",
   "version": "3.9.12"
  },
  "orig_nbformat": 4
 },
 "nbformat": 4,
 "nbformat_minor": 2
}
